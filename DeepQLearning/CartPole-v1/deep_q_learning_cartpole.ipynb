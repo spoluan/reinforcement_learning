{
 "cells": [
  {
   "cell_type": "markdown",
   "id": "eb49ecb3",
   "metadata": {},
   "source": [
    "# Author: Sevendi Eldrige Rifki Poluan"
   ]
  },
  {
   "cell_type": "code",
   "execution_count": 1,
   "id": "f1b09352",
   "metadata": {
    "scrolled": false
   },
   "outputs": [
    {
     "name": "stdout",
     "output_type": "stream",
     "text": [
      "Sun May 14 16:37:04 2023       \r\n",
      "+---------------------------------------------------------------------------------------+\r\n",
      "| NVIDIA-SMI 530.30.02              Driver Version: 530.30.02    CUDA Version: 12.1     |\r\n",
      "|-----------------------------------------+----------------------+----------------------+\r\n",
      "| GPU  Name                  Persistence-M| Bus-Id        Disp.A | Volatile Uncorr. ECC |\r\n",
      "| Fan  Temp  Perf            Pwr:Usage/Cap|         Memory-Usage | GPU-Util  Compute M. |\r\n",
      "|                                         |                      |               MIG M. |\r\n",
      "|=========================================+======================+======================|\r\n",
      "|   0  NVIDIA GeForce RTX 3090         Off| 00000000:65:00.0 Off |                  N/A |\r\n",
      "|  0%   43C    P8               37W / 390W|    243MiB / 24576MiB |      0%      Default |\r\n",
      "|                                         |                      |                  N/A |\r\n",
      "+-----------------------------------------+----------------------+----------------------+\r\n",
      "                                                                                         \r\n",
      "+---------------------------------------------------------------------------------------+\r\n",
      "| Processes:                                                                            |\r\n",
      "|  GPU   GI   CI        PID   Type   Process name                            GPU Memory |\r\n",
      "|        ID   ID                                                             Usage      |\r\n",
      "|=======================================================================================|\r\n",
      "+---------------------------------------------------------------------------------------+\r\n"
     ]
    }
   ],
   "source": [
    "!nvidia-smi"
   ]
  },
  {
   "cell_type": "code",
   "execution_count": null,
   "id": "19785939",
   "metadata": {},
   "outputs": [],
   "source": [
    "!python3 -m pip install --upgrade pip\n",
    "!pip install gym=0.26.2\n",
    "!pip install pyvirtualdisplay \n",
    "!pip install pygame  "
   ]
  },
  {
   "cell_type": "code",
   "execution_count": null,
   "id": "a21fff39",
   "metadata": {
    "scrolled": false
   },
   "outputs": [],
   "source": [
    "!apt-get install -y xvfb ffmpeg"
   ]
  },
  {
   "cell_type": "markdown",
   "id": "58d464b2",
   "metadata": {},
   "source": [
    "# Import the required libraries"
   ]
  },
  {
   "cell_type": "code",
   "execution_count": 51,
   "id": "1f447452",
   "metadata": {},
   "outputs": [],
   "source": [
    "import tensorflow as tf\n",
    "import gym \n",
    "import numpy as np\n",
    "from IPython.display import Image\n",
    "import imageio \n",
    "from collections import deque\n",
    "import random\n",
    "import matplotlib.pyplot as plt"
   ]
  },
  {
   "cell_type": "code",
   "execution_count": 2,
   "id": "3dd75220",
   "metadata": {},
   "outputs": [
    {
     "data": {
      "text/plain": [
       "'0.26.2'"
      ]
     },
     "execution_count": 2,
     "metadata": {},
     "output_type": "execute_result"
    }
   ],
   "source": [
    "gym.__version__"
   ]
  },
  {
   "cell_type": "markdown",
   "id": "9bcf0002",
   "metadata": {},
   "source": [
    "# Here is how it looks like before training (baseline)"
   ]
  },
  {
   "cell_type": "code",
   "execution_count": 52,
   "id": "b565069c",
   "metadata": {},
   "outputs": [],
   "source": [
    "# create the environment for the CartPole task\n",
    "env = gym.make(\"CartPole-v1\", render_mode='rgb_array') \n",
    "\n",
    "# resetting the environment to its initial state and obtaining the first observation/state\n",
    "observation, _ = env.reset()\n",
    " \n",
    "frames = [] \n",
    "terminated = False\n",
    "\n",
    "# run the environment and record the freames (gif)\n",
    "for x in range(50):\n",
    "    \n",
    "    # capture the frame\n",
    "    frame = env.render()\n",
    "    \n",
    "    # store the frames\n",
    "    frames.append(frame)\n",
    "    \n",
    "    # get the next state\n",
    "    observation, reward, terminated, truncated, info = env.step(env.action_space.sample())\n",
    "\n",
    "env.close()"
   ]
  },
  {
   "cell_type": "code",
   "execution_count": 53,
   "id": "2eee7783",
   "metadata": {},
   "outputs": [],
   "source": [
    "# save the frames as GIF\n",
    "imageio.mimsave(\"Render/demo.gif\", frames, duration=0.1)"
   ]
  },
  {
   "cell_type": "markdown",
   "id": "259af632",
   "metadata": {},
   "source": [
    "#### In the CartPole-v0 environment, an episode ends when the pole of the cart-pole system tilts more than `15 degrees` from vertical or the cart moves more than 2.4 units from the center. The maximum number of time steps in each episode is 200. When an episode ends, the environment is automatically reset and a new episode begins."
   ]
  },
  {
   "cell_type": "code",
   "execution_count": 63,
   "id": "0f55575b",
   "metadata": {
    "scrolled": false
   },
   "outputs": [],
   "source": [
    "# Image(filename=\"Render/demo.gif\")"
   ]
  },
  {
   "cell_type": "markdown",
   "id": "5d2ec74a",
   "metadata": {},
   "source": [
    "# Create the agent"
   ]
  },
  {
   "cell_type": "code",
   "execution_count": 55,
   "id": "8d37c34c",
   "metadata": {},
   "outputs": [],
   "source": [
    "# allows for the same random events or processes to occur each time the code is run\n",
    "seed = 20220\n",
    "tf.random.set_seed(seed)\n",
    "np.random.seed(seed)"
   ]
  },
  {
   "cell_type": "code",
   "execution_count": 58,
   "id": "dfc925d1",
   "metadata": {
    "scrolled": false
   },
   "outputs": [],
   "source": [
    "class DQReinforcementLearning:\n",
    "    \n",
    "    def __init__(self, \n",
    "                 state_size, \n",
    "                 action_size,\n",
    "                 batch_size = 128, # in this case lower batch size may lead to overfitting because it makes the model more sensitive to individual data points in the training set\n",
    "                 gamma=0.99,\n",
    "                 epsilon = 1.0,\n",
    "                 epsilon_decay = 0.999,\n",
    "                 epsilon_min = 0.01,\n",
    "                 memory_size=1500,\n",
    "                 start_training_after_memory_reach = 1000,\n",
    "                 load_weights=False\n",
    "        ):\n",
    "  \n",
    "        self.state_size = state_size\n",
    "        self.action_size = action_size\n",
    "        self.batch_size = batch_size\n",
    "         \n",
    "        self.gamma = gamma # discount factor\n",
    "        self.epsilon = epsilon\n",
    "        self.epsilon_decay = epsilon_decay\n",
    "        self.epsilon_min = epsilon_min \n",
    "        self.memory = deque(maxlen=memory_size) # store the experience of the agent (replay buffer) - limit the size of the replay buffer and remove the oldest transitions once it reaches its maximum size. \n",
    "        self.start_training_after_memory_reach = start_training_after_memory_reach # ensure that the agent has collected enough experience before starting to train the neural network\n",
    "         \n",
    "        self.model = self.create_model() # create a neural network for reinforcement learning\n",
    "        self.target_model = self.create_model() # i use a separate network to generate the target Q-values during training, rather than using the same network that is being updated. This can help stabilize the learning process by fixing the target values during each update.\n",
    "        \n",
    "        # load model if any saved weights available\n",
    "        try:\n",
    "            if load_weights:\n",
    "                self.model.load_weights(\"Saved model/model.weights.h5\")\n",
    "                print(\"Weights loaded ...\")\n",
    "        except Exception as e:\n",
    "            print(\"Failed load weights\", e)\n",
    "          \n",
    "    def create_model(self):\n",
    "        inputs = tf.keras.layers.Input(shape=(self.state_size))   \n",
    "        x = tf.keras.layers.Dense(64, activation='relu', kernel_initializer='RandomNormal')(inputs)\n",
    "        x = tf.keras.layers.Dense(128, activation='relu', kernel_initializer='RandomNormal')(x) \n",
    "        x = tf.keras.layers.Dense(256, activation='relu', kernel_initializer='RandomNormal')(x) \n",
    "        \n",
    "        # i used a linear activation function to allow for a wider range of possible outputs since the Q-values can be negative or positive\n",
    "        outputs = tf.keras.layers.Dense(self.action_size, activation=\"linear\")(x)\n",
    "\n",
    "        model = tf.keras.Model(inputs, outputs) \n",
    "        model.compile(loss=\"mse\", optimizer=tf.keras.optimizers.Adam(learning_rate=0.001)) \n",
    "        \n",
    "        return model \n",
    " \n",
    "    def train(self):\n",
    "        \n",
    "        # waiting until the agent has enough experience in the replay buffer before starting training\n",
    "        if len(self.memory) < self.start_training_after_memory_reach:\n",
    "            return\n",
    "        \n",
    "        # sample a batch randomly from the agent's experience and use it for training.\n",
    "        batch = random.sample(self.memory, self.batch_size) \n",
    "        \n",
    "        # squeeze the additional dimension from our input data. \n",
    "        x_input = np.vstack(np.array(batch, dtype=object)[:, 0])\n",
    "        x_target = np.vstack(np.array(batch, dtype=object)[:, 3])\n",
    "\n",
    "        action = np.array(batch, dtype=object)[:, 1]\n",
    "        reward = np.array(batch, dtype=object)[:, 2]\n",
    "        done = np.array(batch, dtype=object)[:, 4]\n",
    "        \n",
    "        target = self.model.predict(x_input, verbose=0)\n",
    "        target_val = self.target_model.predict(x_target, verbose=0) # to overcome the instability issue in deep Q-learning\n",
    "\n",
    "        for i in range(self.batch_size):\n",
    "            \n",
    "            # if the termination status is true, assign a low reward to the corresponding action in our Q-table in the network\n",
    "            if done[i]:\n",
    "                target[i][action[i]] = reward[i]\n",
    "            else:\n",
    "                # Bellman equation\n",
    "                # Q(s, a) = r + γ(max(Q(s', a')))\n",
    "                target[i][action[i]] = reward[i] + self.gamma * (max(target_val[i]))\n",
    "\n",
    "        history = self.model.fit(\n",
    "            x_input, \n",
    "            target, \n",
    "            epochs=1,  \n",
    "            verbose=0\n",
    "        )\n",
    "        return history\n",
    "    \n",
    "    def save(self): \n",
    "        self.model.save_weights(\"Saved model/model.weights.h5\")\n",
    "        \n",
    "    def get_policy(self, state, random_action=False):\n",
    "        if np.random.rand() <= self.epsilon or random_action:\n",
    "            return random.randrange(self.action_size)\n",
    "        else:\n",
    "            q_value = self.model.predict(tf.expand_dims(state, axis=0), verbose=0)\n",
    "            return q_value.argmax()\n",
    " \n",
    "    def add_experience(self, state, action, reward, next_state, done):\n",
    "        self.memory.append((state, action, reward, next_state, done))\n",
    "        if self.epsilon > self.epsilon_min:\n",
    "            self.epsilon *= self.epsilon_decay \n",
    "            \n",
    "    def update_target_model(self):\n",
    "        self.target_model.set_weights(self.model.get_weights())"
   ]
  },
  {
   "cell_type": "markdown",
   "id": "112a5ca0",
   "metadata": {},
   "source": [
    "# Train the agent"
   ]
  },
  {
   "cell_type": "code",
   "execution_count": 8,
   "id": "48221cd8",
   "metadata": {
    "scrolled": false
   },
   "outputs": [
    {
     "name": "stdout",
     "output_type": "stream",
     "text": [
      "EPISODE: 0 REWARD: 20.0 MEMORY_USED: 20 EPSILON: 0.9801888648295347 LOSS: inf\n",
      "EPISODE: 1 REWARD: 10.0 MEMORY_USED: 30 EPSILON: 0.9704309672630859 LOSS: inf\n",
      "EPISODE: 2 REWARD: 17.0 MEMORY_USED: 47 EPSILON: 0.9540649618417361 LOSS: inf\n",
      "EPISODE: 3 REWARD: 48.0 MEMORY_USED: 95 EPSILON: 0.9093297114626595 LOSS: inf\n",
      "EPISODE: 4 REWARD: 35.0 MEMORY_USED: 130 EPSILON: 0.8780383184956015 LOSS: inf\n",
      "EPISODE: 5 REWARD: 27.0 MEMORY_USED: 157 EPSILON: 0.8546369224228781 LOSS: inf\n",
      "EPISODE: 6 REWARD: 48.0 MEMORY_USED: 205 EPSILON: 0.8145637636371417 LOSS: inf\n",
      "EPISODE: 7 REWARD: 16.0 MEMORY_USED: 221 EPSILON: 0.8016280363938307 LOSS: inf\n",
      "EPISODE: 8 REWARD: 20.0 MEMORY_USED: 241 EPSILON: 0.7857468750083979 LOSS: inf\n",
      "EPISODE: 9 REWARD: 10.0 MEMORY_USED: 251 EPSILON: 0.7779246707428734 LOSS: inf\n",
      "EPISODE: 10 REWARD: 16.0 MEMORY_USED: 267 EPSILON: 0.7655707927460921 LOSS: inf\n",
      "EPISODE: 11 REWARD: 16.0 MEMORY_USED: 283 EPSILON: 0.7534131012276413 LOSS: inf\n",
      "EPISODE: 12 REWARD: 11.0 MEMORY_USED: 294 EPSILON: 0.7451668707698216 LOSS: inf\n",
      "EPISODE: 13 REWARD: 32.0 MEMORY_USED: 326 EPSILON: 0.7216874642922244 LOSS: inf\n",
      "EPISODE: 14 REWARD: 16.0 MEMORY_USED: 342 EPSILON: 0.7102266645246085 LOSS: inf\n",
      "EPISODE: 15 REWARD: 21.0 MEMORY_USED: 363 EPSILON: 0.6954601118039707 LOSS: inf\n",
      "EPISODE: 16 REWARD: 29.0 MEMORY_USED: 392 EPSILON: 0.6755716005914124 LOSS: inf\n",
      "EPISODE: 17 REWARD: 17.0 MEMORY_USED: 409 EPSILON: 0.6641783033340387 LOSS: inf\n",
      "EPISODE: 18 REWARD: 36.0 MEMORY_USED: 445 EPSILON: 0.640681613386349 LOSS: inf\n",
      "EPISODE: 19 REWARD: 12.0 MEMORY_USED: 457 EPSILON: 0.6330355783788719 LOSS: inf\n",
      "EPISODE: 20 REWARD: 23.0 MEMORY_USED: 480 EPSILON: 0.6186348025557711 LOSS: inf\n",
      "EPISODE: 21 REWARD: 13.0 MEMORY_USED: 493 EPSILON: 0.6106406271491208 LOSS: inf\n",
      "EPISODE: 22 REWARD: 13.0 MEMORY_USED: 506 EPSILON: 0.6027497547577038 LOSS: inf\n",
      "EPISODE: 23 REWARD: 27.0 MEMORY_USED: 533 EPSILON: 0.5866853240299091 LOSS: inf\n",
      "EPISODE: 24 REWARD: 23.0 MEMORY_USED: 556 EPSILON: 0.573338959119908 LOSS: inf\n",
      "EPISODE: 25 REWARD: 13.0 MEMORY_USED: 569 EPSILON: 0.5659301095244186 LOSS: inf\n",
      "EPISODE: 26 REWARD: 20.0 MEMORY_USED: 589 EPSILON: 0.5547183916275941 LOSS: inf\n",
      "EPISODE: 27 REWARD: 13.0 MEMORY_USED: 602 EPSILON: 0.547550162317433 LOSS: inf\n",
      "EPISODE: 28 REWARD: 21.0 MEMORY_USED: 623 EPSILON: 0.536165869467113 LOSS: inf\n",
      "EPISODE: 29 REWARD: 12.0 MEMORY_USED: 635 EPSILON: 0.5297671482893791 LOSS: inf\n",
      "EPISODE: 30 REWARD: 14.0 MEMORY_USED: 649 EPSILON: 0.522398424717818 LOSS: inf\n",
      "EPISODE: 31 REWARD: 22.0 MEMORY_USED: 671 EPSILON: 0.5110255327241885 LOSS: inf\n",
      "EPISODE: 32 REWARD: 9.0 MEMORY_USED: 680 EPSILON: 0.506444656987029 LOSS: inf\n",
      "EPISODE: 33 REWARD: 9.0 MEMORY_USED: 689 EPSILON: 0.5019048446041944 LOSS: inf\n",
      "EPISODE: 34 REWARD: 18.0 MEMORY_USED: 707 EPSILON: 0.4929469408197278 LOSS: inf\n",
      "EPISODE: 35 REWARD: 35.0 MEMORY_USED: 742 EPSILON: 0.47598390063456947 LOSS: inf\n",
      "EPISODE: 36 REWARD: 17.0 MEMORY_USED: 759 EPSILON: 0.46795658559511777 LOSS: inf\n",
      "EPISODE: 37 REWARD: 33.0 MEMORY_USED: 792 EPSILON: 0.452758565214779 LOSS: inf\n",
      "EPISODE: 38 REWARD: 20.0 MEMORY_USED: 812 EPSILON: 0.44378890407972305 LOSS: inf\n",
      "EPISODE: 39 REWARD: 11.0 MEMORY_USED: 823 EPSILON: 0.4389315614456469 LOSS: inf\n",
      "EPISODE: 40 REWARD: 16.0 MEMORY_USED: 839 EPSILON: 0.4319610832451573 LOSS: inf\n",
      "EPISODE: 41 REWARD: 26.0 MEMORY_USED: 865 EPSILON: 0.42086936576352424 LOSS: inf\n",
      "EPISODE: 42 REWARD: 10.0 MEMORY_USED: 875 EPSILON: 0.4166795608113011 LOSS: inf\n",
      "EPISODE: 43 REWARD: 12.0 MEMORY_USED: 887 EPSILON: 0.41170681546900234 LOSS: inf\n",
      "EPISODE: 44 REWARD: 39.0 MEMORY_USED: 926 EPSILON: 0.3959515954549783 LOSS: inf\n",
      "EPISODE: 45 REWARD: 13.0 MEMORY_USED: 939 EPSILON: 0.3908349959789493 LOSS: inf\n",
      "EPISODE: 46 REWARD: 32.0 MEMORY_USED: 971 EPSILON: 0.37852020570012296 LOSS: inf\n",
      "EPISODE: 47 REWARD: 10.0 MEMORY_USED: 981 EPSILON: 0.3747519917093475 LOSS: inf\n",
      "EPISODE: 48 REWARD: 24.0 MEMORY_USED: 1005 EPSILON: 0.36586062092624033 LOSS: 0.13921231031417847\n",
      "-------------------------------------------- model improved: saved to model.weights.h5\n",
      "EPISODE: 49 REWARD: 12.0 MEMORY_USED: 1017 EPSILON: 0.36149435996758156 LOSS: 0.23816902935504913\n",
      "EPISODE: 50 REWARD: 54.0 MEMORY_USED: 1071 EPSILON: 0.3424821096413374 LOSS: 0.2753464877605438\n",
      "-------------------------------------------- model improved: saved to model.weights.h5\n",
      "EPISODE: 51 REWARD: 16.0 MEMORY_USED: 1087 EPSILON: 0.3370433025720758 LOSS: 0.14072372019290924\n",
      "EPISODE: 52 REWARD: 35.0 MEMORY_USED: 1122 EPSILON: 0.32544513933738534 LOSS: 0.39726024866104126\n",
      "EPISODE: 53 REWARD: 71.0 MEMORY_USED: 1193 EPSILON: 0.3031289768215478 LOSS: 0.15703357756137848\n",
      "-------------------------------------------- model improved: saved to model.weights.h5\n",
      "EPISODE: 54 REWARD: 81.0 MEMORY_USED: 1274 EPSILON: 0.2795323012780908 LOSS: 0.16938740015029907\n",
      "-------------------------------------------- model improved: saved to model.weights.h5\n",
      "EPISODE: 55 REWARD: 101.0 MEMORY_USED: 1375 EPSILON: 0.2526657124299791 LOSS: 0.03998580202460289\n",
      "-------------------------------------------- model improved: saved to model.weights.h5\n",
      "EPISODE: 56 REWARD: 138.0 MEMORY_USED: 1500 EPSILON: 0.22008157526211472 LOSS: 0.18642671406269073\n",
      "-------------------------------------------- model improved: saved to model.weights.h5\n",
      "EPISODE: 57 REWARD: 159.0 MEMORY_USED: 1500 EPSILON: 0.1877138485735047 LOSS: 0.1584898829460144\n",
      "-------------------------------------------- model improved: saved to model.weights.h5\n",
      "EPISODE: 58 REWARD: 173.0 MEMORY_USED: 1500 EPSILON: 0.15787951258191282 LOSS: 0.12253104895353317\n",
      "-------------------------------------------- model improved: saved to model.weights.h5\n",
      "EPISODE: 59 REWARD: 200.0 MEMORY_USED: 1500 EPSILON: 0.1292478781738403 LOSS: 0.02003628760576248\n",
      "-------------------------------------------- model improved: saved to model.weights.h5\n",
      "EPISODE: 60 REWARD: 118.0 MEMORY_USED: 1500 EPSILON: 0.11485529795811826 LOSS: 0.6592352986335754\n",
      "EPISODE: 61 REWARD: 162.0 MEMORY_USED: 1500 EPSILON: 0.09766976109371296 LOSS: 0.43880462646484375\n",
      "EPISODE: 62 REWARD: 154.0 MEMORY_USED: 1500 EPSILON: 0.08372310225609315 LOSS: 0.05725037306547165\n",
      "EPISODE: 63 REWARD: 111.0 MEMORY_USED: 1500 EPSILON: 0.07492288727950691 LOSS: 0.1266290843486786\n",
      "EPISODE: 64 REWARD: 151.0 MEMORY_USED: 1500 EPSILON: 0.06441740526146615 LOSS: 0.03160686790943146\n",
      "EPISODE: 65 REWARD: 118.0 MEMORY_USED: 1500 EPSILON: 0.05724411401975369 LOSS: 0.014380114153027534\n",
      "EPISODE: 66 REWARD: 145.0 MEMORY_USED: 1500 EPSILON: 0.04951384249760823 LOSS: 0.039911139756441116\n",
      "EPISODE: 67 REWARD: 111.0 MEMORY_USED: 1500 EPSILON: 0.0443093953790225 LOSS: 0.06614364683628082\n",
      "EPISODE: 68 REWARD: 200.0 MEMORY_USED: 1500 EPSILON: 0.03627383466194284 LOSS: 0.06265456229448318\n",
      "-------------------------------------------- model improved: saved to model.weights.h5\n",
      "EPISODE: 69 REWARD: 112.0 MEMORY_USED: 1500 EPSILON: 0.032428596313140684 LOSS: 0.04900604858994484\n",
      "EPISODE: 70 REWARD: 130.0 MEMORY_USED: 1500 EPSILON: 0.028473550177962683 LOSS: 0.028494562953710556\n",
      "EPISODE: 71 REWARD: 104.0 MEMORY_USED: 1500 EPSILON: 0.025659748495905712 LOSS: 0.030350040644407272\n",
      "EPISODE: 72 REWARD: 106.0 MEMORY_USED: 1500 EPSILON: 0.02307778628948961 LOSS: 0.02853064052760601\n",
      "EPISODE: 73 REWARD: 111.0 MEMORY_USED: 1500 EPSILON: 0.020652058204187532 LOSS: 0.027340585365891457\n",
      "EPISODE: 74 REWARD: 102.0 MEMORY_USED: 1500 EPSILON: 0.01864846713053445 LOSS: 0.037157900631427765\n",
      "EPISODE: 75 REWARD: 101.0 MEMORY_USED: 1500 EPSILON: 0.01685611362880026 LOSS: 0.007295222021639347\n",
      "EPISODE: 76 REWARD: 122.0 MEMORY_USED: 1500 EPSILON: 0.01491925076856409 LOSS: 0.026183467358350754\n",
      "EPISODE: 77 REWARD: 106.0 MEMORY_USED: 1500 EPSILON: 0.013418030223139681 LOSS: 0.012230788357555866\n",
      "EPISODE: 78 REWARD: 107.0 MEMORY_USED: 1500 EPSILON: 0.012055799203603838 LOSS: 0.023889698088169098\n",
      "EPISODE: 79 REWARD: 120.0 MEMORY_USED: 1500 EPSILON: 0.01069189273380245 LOSS: 0.03736916929483414\n",
      "EPISODE: 80 REWARD: 123.0 MEMORY_USED: 1500 EPSILON: 0.009998671593271896 LOSS: 0.005380737129598856\n",
      "EPISODE: 81 REWARD: 114.0 MEMORY_USED: 1500 EPSILON: 0.009998671593271896 LOSS: 0.00624446477741003\n",
      "EPISODE: 82 REWARD: 119.0 MEMORY_USED: 1500 EPSILON: 0.009998671593271896 LOSS: 0.021751314401626587\n",
      "EPISODE: 83 REWARD: 103.0 MEMORY_USED: 1500 EPSILON: 0.009998671593271896 LOSS: 0.013044585473835468\n"
     ]
    },
    {
     "name": "stdout",
     "output_type": "stream",
     "text": [
      "EPISODE: 84 REWARD: 116.0 MEMORY_USED: 1500 EPSILON: 0.009998671593271896 LOSS: 0.02047817036509514\n",
      "EPISODE: 85 REWARD: 117.0 MEMORY_USED: 1500 EPSILON: 0.009998671593271896 LOSS: 0.0041207121685147285\n",
      "EPISODE: 86 REWARD: 110.0 MEMORY_USED: 1500 EPSILON: 0.009998671593271896 LOSS: 0.009870092384517193\n",
      "EPISODE: 87 REWARD: 114.0 MEMORY_USED: 1500 EPSILON: 0.009998671593271896 LOSS: 0.012324035167694092\n",
      "EPISODE: 88 REWARD: 118.0 MEMORY_USED: 1500 EPSILON: 0.009998671593271896 LOSS: 0.00835251435637474\n",
      "EPISODE: 89 REWARD: 125.0 MEMORY_USED: 1500 EPSILON: 0.009998671593271896 LOSS: 0.00666398648172617\n",
      "EPISODE: 90 REWARD: 112.0 MEMORY_USED: 1500 EPSILON: 0.009998671593271896 LOSS: 0.006546937860548496\n",
      "EPISODE: 91 REWARD: 117.0 MEMORY_USED: 1500 EPSILON: 0.009998671593271896 LOSS: 0.005448383279144764\n",
      "EPISODE: 92 REWARD: 115.0 MEMORY_USED: 1500 EPSILON: 0.009998671593271896 LOSS: 0.00481174373999238\n",
      "EPISODE: 93 REWARD: 114.0 MEMORY_USED: 1500 EPSILON: 0.009998671593271896 LOSS: 0.015030425041913986\n",
      "EPISODE: 94 REWARD: 123.0 MEMORY_USED: 1500 EPSILON: 0.009998671593271896 LOSS: 0.010037442669272423\n",
      "EPISODE: 95 REWARD: 110.0 MEMORY_USED: 1500 EPSILON: 0.009998671593271896 LOSS: 0.019678723067045212\n",
      "EPISODE: 96 REWARD: 113.0 MEMORY_USED: 1500 EPSILON: 0.009998671593271896 LOSS: 0.0729341059923172\n",
      "EPISODE: 97 REWARD: 109.0 MEMORY_USED: 1500 EPSILON: 0.009998671593271896 LOSS: 0.008903101086616516\n",
      "EPISODE: 98 REWARD: 120.0 MEMORY_USED: 1500 EPSILON: 0.009998671593271896 LOSS: 0.009860880672931671\n",
      "EPISODE: 99 REWARD: 119.0 MEMORY_USED: 1500 EPSILON: 0.009998671593271896 LOSS: 0.009636257775127888\n",
      "EPISODE: 100 REWARD: 115.0 MEMORY_USED: 1500 EPSILON: 0.009998671593271896 LOSS: 0.009120498783886433\n",
      "EPISODE: 101 REWARD: 112.0 MEMORY_USED: 1500 EPSILON: 0.009998671593271896 LOSS: 0.026912223547697067\n",
      "EPISODE: 102 REWARD: 118.0 MEMORY_USED: 1500 EPSILON: 0.009998671593271896 LOSS: 0.010359127074480057\n",
      "EPISODE: 103 REWARD: 107.0 MEMORY_USED: 1500 EPSILON: 0.009998671593271896 LOSS: 0.006610669195652008\n",
      "EPISODE: 104 REWARD: 110.0 MEMORY_USED: 1500 EPSILON: 0.009998671593271896 LOSS: 0.010282190516591072\n",
      "EPISODE: 105 REWARD: 128.0 MEMORY_USED: 1500 EPSILON: 0.009998671593271896 LOSS: 0.01043903548270464\n",
      "EPISODE: 106 REWARD: 116.0 MEMORY_USED: 1500 EPSILON: 0.009998671593271896 LOSS: 0.015094557777047157\n",
      "EPISODE: 107 REWARD: 116.0 MEMORY_USED: 1500 EPSILON: 0.009998671593271896 LOSS: 0.053495876491069794\n",
      "EPISODE: 108 REWARD: 119.0 MEMORY_USED: 1500 EPSILON: 0.009998671593271896 LOSS: 0.01848100684583187\n",
      "EPISODE: 109 REWARD: 115.0 MEMORY_USED: 1500 EPSILON: 0.009998671593271896 LOSS: 0.19488468766212463\n",
      "EPISODE: 110 REWARD: 114.0 MEMORY_USED: 1500 EPSILON: 0.009998671593271896 LOSS: 0.013420628383755684\n",
      "EPISODE: 111 REWARD: 111.0 MEMORY_USED: 1500 EPSILON: 0.009998671593271896 LOSS: 0.020390192046761513\n",
      "EPISODE: 112 REWARD: 135.0 MEMORY_USED: 1500 EPSILON: 0.009998671593271896 LOSS: 0.01762721873819828\n",
      "EPISODE: 113 REWARD: 120.0 MEMORY_USED: 1500 EPSILON: 0.009998671593271896 LOSS: 0.009124057367444038\n",
      "EPISODE: 114 REWARD: 122.0 MEMORY_USED: 1500 EPSILON: 0.009998671593271896 LOSS: 0.028004655614495277\n",
      "EPISODE: 115 REWARD: 116.0 MEMORY_USED: 1500 EPSILON: 0.009998671593271896 LOSS: 0.016721412539482117\n",
      "EPISODE: 116 REWARD: 158.0 MEMORY_USED: 1500 EPSILON: 0.009998671593271896 LOSS: 0.015102672390639782\n",
      "EPISODE: 117 REWARD: 121.0 MEMORY_USED: 1500 EPSILON: 0.009998671593271896 LOSS: 0.11683347076177597\n",
      "EPISODE: 118 REWARD: 138.0 MEMORY_USED: 1500 EPSILON: 0.009998671593271896 LOSS: 0.044261783361434937\n",
      "EPISODE: 119 REWARD: 130.0 MEMORY_USED: 1500 EPSILON: 0.009998671593271896 LOSS: 0.008330748416483402\n",
      "EPISODE: 120 REWARD: 132.0 MEMORY_USED: 1500 EPSILON: 0.009998671593271896 LOSS: 0.00766276940703392\n",
      "EPISODE: 121 REWARD: 179.0 MEMORY_USED: 1500 EPSILON: 0.009998671593271896 LOSS: 0.007081388030201197\n",
      "EPISODE: 122 REWARD: 99.0 MEMORY_USED: 1500 EPSILON: 0.009998671593271896 LOSS: 0.009161577560007572\n",
      "EPISODE: 123 REWARD: 26.0 MEMORY_USED: 1500 EPSILON: 0.009998671593271896 LOSS: 0.3604557514190674\n",
      "EPISODE: 124 REWARD: 19.0 MEMORY_USED: 1500 EPSILON: 0.009998671593271896 LOSS: 23.12718963623047\n",
      "EPISODE: 125 REWARD: 11.0 MEMORY_USED: 1500 EPSILON: 0.009998671593271896 LOSS: 4.65512228012085\n",
      "EPISODE: 126 REWARD: 13.0 MEMORY_USED: 1500 EPSILON: 0.009998671593271896 LOSS: 2.7017407417297363\n",
      "EPISODE: 127 REWARD: 41.0 MEMORY_USED: 1500 EPSILON: 0.009998671593271896 LOSS: 1.4169480800628662\n",
      "EPISODE: 128 REWARD: 16.0 MEMORY_USED: 1500 EPSILON: 0.009998671593271896 LOSS: 0.513746976852417\n",
      "EPISODE: 129 REWARD: 13.0 MEMORY_USED: 1500 EPSILON: 0.009998671593271896 LOSS: 1.1570463180541992\n",
      "EPISODE: 130 REWARD: 10.0 MEMORY_USED: 1500 EPSILON: 0.009998671593271896 LOSS: 0.5857746005058289\n",
      "EPISODE: 131 REWARD: 11.0 MEMORY_USED: 1500 EPSILON: 0.009998671593271896 LOSS: 0.4070698320865631\n",
      "EPISODE: 132 REWARD: 19.0 MEMORY_USED: 1500 EPSILON: 0.009998671593271896 LOSS: 0.7060995697975159\n",
      "EPISODE: 133 REWARD: 15.0 MEMORY_USED: 1500 EPSILON: 0.009998671593271896 LOSS: 7.716373443603516\n",
      "EPISODE: 134 REWARD: 21.0 MEMORY_USED: 1500 EPSILON: 0.009998671593271896 LOSS: 4.125016212463379\n",
      "EPISODE: 135 REWARD: 74.0 MEMORY_USED: 1500 EPSILON: 0.009998671593271896 LOSS: 0.4340706169605255\n",
      "EPISODE: 136 REWARD: 101.0 MEMORY_USED: 1500 EPSILON: 0.009998671593271896 LOSS: 0.5135763883590698\n",
      "EPISODE: 137 REWARD: 159.0 MEMORY_USED: 1500 EPSILON: 0.009998671593271896 LOSS: 1.202423334121704\n",
      "EPISODE: 138 REWARD: 124.0 MEMORY_USED: 1500 EPSILON: 0.009998671593271896 LOSS: 0.20559996366500854\n",
      "EPISODE: 139 REWARD: 109.0 MEMORY_USED: 1500 EPSILON: 0.009998671593271896 LOSS: 0.4766964018344879\n",
      "EPISODE: 140 REWARD: 124.0 MEMORY_USED: 1500 EPSILON: 0.009998671593271896 LOSS: 1.640364408493042\n",
      "EPISODE: 141 REWARD: 137.0 MEMORY_USED: 1500 EPSILON: 0.009998671593271896 LOSS: 0.456808477640152\n",
      "EPISODE: 142 REWARD: 138.0 MEMORY_USED: 1500 EPSILON: 0.009998671593271896 LOSS: 1.5772970914840698\n",
      "EPISODE: 143 REWARD: 169.0 MEMORY_USED: 1500 EPSILON: 0.009998671593271896 LOSS: 1.6682655811309814\n",
      "EPISODE: 144 REWARD: 200.0 MEMORY_USED: 1500 EPSILON: 0.009998671593271896 LOSS: 0.45839887857437134\n",
      "-------------------------------------------- model improved: saved to model.weights.h5\n",
      "EPISODE: 145 REWARD: 200.0 MEMORY_USED: 1500 EPSILON: 0.009998671593271896 LOSS: 0.3220860958099365\n",
      "-------------------------------------------- model improved: saved to model.weights.h5\n",
      "EPISODE: 146 REWARD: 200.0 MEMORY_USED: 1500 EPSILON: 0.009998671593271896 LOSS: 0.8950967788696289\n",
      "-------------------------------------------- model improved: saved to model.weights.h5\n",
      "EPISODE: 147 REWARD: 185.0 MEMORY_USED: 1500 EPSILON: 0.009998671593271896 LOSS: 0.670061469078064\n",
      "EPISODE: 148 REWARD: 199.0 MEMORY_USED: 1500 EPSILON: 0.009998671593271896 LOSS: 0.10743606090545654\n",
      "EPISODE: 149 REWARD: 160.0 MEMORY_USED: 1500 EPSILON: 0.009998671593271896 LOSS: 0.10458379238843918\n",
      "EPISODE: 150 REWARD: 166.0 MEMORY_USED: 1500 EPSILON: 0.009998671593271896 LOSS: 0.12389735877513885\n",
      "EPISODE: 151 REWARD: 138.0 MEMORY_USED: 1500 EPSILON: 0.009998671593271896 LOSS: 0.03969530016183853\n",
      "EPISODE: 152 REWARD: 137.0 MEMORY_USED: 1500 EPSILON: 0.009998671593271896 LOSS: 0.05298465117812157\n",
      "EPISODE: 153 REWARD: 129.0 MEMORY_USED: 1500 EPSILON: 0.009998671593271896 LOSS: 0.05176043510437012\n",
      "EPISODE: 155 REWARD: 138.0 MEMORY_USED: 1500 EPSILON: 0.009998671593271896 LOSS: 0.07479040324687958\n",
      "EPISODE: 156 REWARD: 138.0 MEMORY_USED: 1500 EPSILON: 0.009998671593271896 LOSS: 0.10873211920261383\n",
      "EPISODE: 157 REWARD: 128.0 MEMORY_USED: 1500 EPSILON: 0.009998671593271896 LOSS: 0.08610744774341583\n",
      "EPISODE: 158 REWARD: 119.0 MEMORY_USED: 1500 EPSILON: 0.009998671593271896 LOSS: 0.04978641867637634\n",
      "EPISODE: 159 REWARD: 142.0 MEMORY_USED: 1500 EPSILON: 0.009998671593271896 LOSS: 0.03874928504228592\n",
      "EPISODE: 160 REWARD: 129.0 MEMORY_USED: 1500 EPSILON: 0.009998671593271896 LOSS: 0.06198713183403015\n",
      "EPISODE: 161 REWARD: 129.0 MEMORY_USED: 1500 EPSILON: 0.009998671593271896 LOSS: 0.05883646756410599\n",
      "EPISODE: 162 REWARD: 132.0 MEMORY_USED: 1500 EPSILON: 0.009998671593271896 LOSS: 0.055693432688713074\n",
      "EPISODE: 163 REWARD: 130.0 MEMORY_USED: 1500 EPSILON: 0.009998671593271896 LOSS: 0.03232010826468468\n"
     ]
    },
    {
     "name": "stdout",
     "output_type": "stream",
     "text": [
      "EPISODE: 164 REWARD: 137.0 MEMORY_USED: 1500 EPSILON: 0.009998671593271896 LOSS: 0.047772787511348724\n",
      "EPISODE: 165 REWARD: 137.0 MEMORY_USED: 1500 EPSILON: 0.009998671593271896 LOSS: 0.035236142575740814\n",
      "EPISODE: 166 REWARD: 139.0 MEMORY_USED: 1500 EPSILON: 0.009998671593271896 LOSS: 0.0272489283233881\n",
      "EPISODE: 167 REWARD: 149.0 MEMORY_USED: 1500 EPSILON: 0.009998671593271896 LOSS: 0.012983717024326324\n",
      "EPISODE: 168 REWARD: 146.0 MEMORY_USED: 1500 EPSILON: 0.009998671593271896 LOSS: 0.039081260561943054\n",
      "EPISODE: 169 REWARD: 95.0 MEMORY_USED: 1500 EPSILON: 0.009998671593271896 LOSS: 0.052664607763290405\n",
      "EPISODE: 170 REWARD: 95.0 MEMORY_USED: 1500 EPSILON: 0.009998671593271896 LOSS: 0.08559045195579529\n",
      "EPISODE: 171 REWARD: 14.0 MEMORY_USED: 1500 EPSILON: 0.009998671593271896 LOSS: 0.9142397046089172\n",
      "EPISODE: 172 REWARD: 11.0 MEMORY_USED: 1500 EPSILON: 0.009998671593271896 LOSS: 0.6833760738372803\n",
      "EPISODE: 173 REWARD: 35.0 MEMORY_USED: 1500 EPSILON: 0.009998671593271896 LOSS: 1.3193124532699585\n",
      "EPISODE: 174 REWARD: 181.0 MEMORY_USED: 1500 EPSILON: 0.009998671593271896 LOSS: 0.288010835647583\n",
      "EPISODE: 175 REWARD: 176.0 MEMORY_USED: 1500 EPSILON: 0.009998671593271896 LOSS: 0.11276630312204361\n",
      "EPISODE: 176 REWARD: 185.0 MEMORY_USED: 1500 EPSILON: 0.009998671593271896 LOSS: 0.3178516626358032\n",
      "EPISODE: 177 REWARD: 183.0 MEMORY_USED: 1500 EPSILON: 0.009998671593271896 LOSS: 0.3493836224079132\n",
      "EPISODE: 178 REWARD: 157.0 MEMORY_USED: 1500 EPSILON: 0.009998671593271896 LOSS: 0.3827625811100006\n",
      "EPISODE: 179 REWARD: 163.0 MEMORY_USED: 1500 EPSILON: 0.009998671593271896 LOSS: 0.5006807446479797\n",
      "EPISODE: 180 REWARD: 162.0 MEMORY_USED: 1500 EPSILON: 0.009998671593271896 LOSS: 0.18072593212127686\n",
      "EPISODE: 181 REWARD: 176.0 MEMORY_USED: 1500 EPSILON: 0.009998671593271896 LOSS: 0.1725238859653473\n",
      "EPISODE: 182 REWARD: 166.0 MEMORY_USED: 1500 EPSILON: 0.009998671593271896 LOSS: 0.05158888176083565\n",
      "EPISODE: 183 REWARD: 183.0 MEMORY_USED: 1500 EPSILON: 0.009998671593271896 LOSS: 0.03647058457136154\n",
      "EPISODE: 184 REWARD: 117.0 MEMORY_USED: 1500 EPSILON: 0.009998671593271896 LOSS: 0.07427874952554703\n",
      "EPISODE: 185 REWARD: 136.0 MEMORY_USED: 1500 EPSILON: 0.009998671593271896 LOSS: 2.5989151000976562\n",
      "EPISODE: 186 REWARD: 200.0 MEMORY_USED: 1500 EPSILON: 0.009998671593271896 LOSS: 0.03694829344749451\n",
      "-------------------------------------------- model improved: saved to model.weights.h5\n",
      "EPISODE: 187 REWARD: 193.0 MEMORY_USED: 1500 EPSILON: 0.009998671593271896 LOSS: 0.03256332129240036\n",
      "EPISODE: 188 REWARD: 183.0 MEMORY_USED: 1500 EPSILON: 0.009998671593271896 LOSS: 0.027063246816396713\n",
      "EPISODE: 189 REWARD: 200.0 MEMORY_USED: 1500 EPSILON: 0.009998671593271896 LOSS: 0.03411064296960831\n",
      "-------------------------------------------- model improved: saved to model.weights.h5\n",
      "EPISODE: 190 REWARD: 200.0 MEMORY_USED: 1500 EPSILON: 0.009998671593271896 LOSS: 0.07055231183767319\n",
      "-------------------------------------------- model improved: saved to model.weights.h5\n",
      "EPISODE: 191 REWARD: 200.0 MEMORY_USED: 1500 EPSILON: 0.009998671593271896 LOSS: 0.028557932004332542\n",
      "-------------------------------------------- model improved: saved to model.weights.h5\n",
      "EPISODE: 192 REWARD: 200.0 MEMORY_USED: 1500 EPSILON: 0.009998671593271896 LOSS: 0.03603607788681984\n",
      "-------------------------------------------- model improved: saved to model.weights.h5\n",
      "EPISODE: 193 REWARD: 200.0 MEMORY_USED: 1500 EPSILON: 0.009998671593271896 LOSS: 0.03923261538147926\n",
      "-------------------------------------------- model improved: saved to model.weights.h5\n",
      "EPISODE: 194 REWARD: 200.0 MEMORY_USED: 1500 EPSILON: 0.009998671593271896 LOSS: 0.021011730656027794\n",
      "-------------------------------------------- model improved: saved to model.weights.h5\n",
      "EPISODE: 195 REWARD: 200.0 MEMORY_USED: 1500 EPSILON: 0.009998671593271896 LOSS: 0.016961418092250824\n",
      "-------------------------------------------- model improved: saved to model.weights.h5\n"
     ]
    }
   ],
   "source": [
    "# create the environment for CartPole\n",
    "env = gym.make('CartPole-v1')\n",
    "\n",
    "# obtain the number of states available and actions for building the neural network in the CartPole environment\n",
    "state_size = env.observation_space.shape[0]\n",
    "action_size = env.action_space.n\n",
    "\n",
    "# create an agent instance for the CartPole\n",
    "agent = DQReinforcementLearning(state_size, action_size)\n",
    " \n",
    "EPISODES = 1000\n",
    "rewards = []\n",
    "losses = []\n",
    "max_rewards = 0\n",
    "random_action = False\n",
    "count_200 = 0\n",
    "\n",
    "for episode in range(EPISODES):\n",
    "    \n",
    "    # reset the state for every episode\n",
    "    total_reward_per_episode = 0\n",
    "    observation, _ = env.reset() \n",
    "    terminated = False \n",
    "\n",
    "    while not terminated: \n",
    "        \n",
    "        action = agent.get_policy(observation, random_action=random_action)\n",
    "        next_observation, reward, terminated, truncated, info = env.step(action)\n",
    "        \n",
    "        # add experience to the agent\n",
    "        agent.add_experience(observation, action, reward if not terminated else -1, next_observation, terminated)\n",
    "        \n",
    "        # train the agent's model\n",
    "        history = agent.train()\n",
    "        loss = history.history[\"loss\"][0] if history is not None else float(\"inf\")\n",
    "        losses.append(loss)\n",
    "        \n",
    "        # collect the total rewards obtained\n",
    "        total_reward_per_episode += reward\n",
    "        \n",
    "        # update the state for the next prediction\n",
    "        observation = next_observation.copy()\n",
    " \n",
    "        # if the terminated status is true, it means that the episode has ended and the agent needs to start a new episode from the initial state\n",
    "        if terminated or total_reward_per_episode == 200: # i just limit to only 200 rewards\n",
    "             \n",
    "            # collect the total rewards obtained\n",
    "            rewards.append(total_reward_per_episode)  \n",
    "            \n",
    "            # i used this to prevent from the instability issue in deep Q-learning\n",
    "            # because the Q-values and target values used to train the network are constantly changing as the network learns, which makes the environment non-stationary\n",
    "            agent.update_target_model()\n",
    "            \n",
    "            print(f\"EPISODE: {episode} REWARD: {total_reward_per_episode} MEMORY_USED: {len(agent.memory)} EPSILON: {agent.epsilon} LOSS: {loss}\")\n",
    "            \n",
    "            terminated = True\n",
    "    \n",
    "    # saves the model weights whenever the number of rewards exceeds a certain threshold (max_rewards | total_reward_per_episode)\n",
    "    if (max_rewards < total_reward_per_episode or total_reward_per_episode >= 200) and len(agent.memory) > agent.start_training_after_memory_reach:\n",
    "        agent.save()\n",
    "        print(\"-------------------------------------------- model improved: saved to model.weights.h5\")\n",
    "        \n",
    "        max_rewards = max(max_rewards, total_reward_per_episode)\n",
    "    \n",
    "    # randomly selecting actions if the total rewards obtained during training are low\n",
    "    if total_reward_per_episode < 20:\n",
    "        random_action = True\n",
    "    else:\n",
    "        random_action = False\n",
    "    \n",
    "    # maintain to close all episodes when the last 10 rewards have 200 rewards \n",
    "    if total_reward_per_episode == 200: \n",
    "        count_200 +=1\n",
    "    else: \n",
    "        count_200 = 0\n",
    "    if count_200 == 7:\n",
    "        agent.save()\n",
    "        break\n",
    "    \n",
    " "
   ]
  },
  {
   "cell_type": "markdown",
   "id": "c70cd9ae",
   "metadata": {},
   "source": [
    "# Plot the rewards and loss during training"
   ]
  },
  {
   "cell_type": "code",
   "execution_count": 9,
   "id": "15814052",
   "metadata": {
    "scrolled": false
   },
   "outputs": [
    {
     "data": {
      "image/png": "[encoded data removed]",
      "text/plain": [
       "<Figure size 640x480 with 1 Axes>"
      ]
     },
     "metadata": {},
     "output_type": "display_data"
    }
   ],
   "source": [
    "plt.figure()\n",
    "plt.plot(rewards)\n",
    "plt.xlabel('Episode')\n",
    "plt.ylabel('Reward')\n",
    "plt.show()"
   ]
  },
  {
   "cell_type": "code",
   "execution_count": 48,
   "id": "1081ef71",
   "metadata": {
    "scrolled": false
   },
   "outputs": [
    {
     "data": {
      "image/png": "[encoded data removed]",
      "text/plain": [
       "<Figure size 640x480 with 1 Axes>"
      ]
     },
     "metadata": {},
     "output_type": "display_data"
    }
   ],
   "source": [
    "plt.figure()\n",
    "plt.plot(losses)\n",
    "plt.xlabel('Step')\n",
    "plt.ylabel('Loss')\n",
    "plt.show()"
   ]
  },
  {
   "cell_type": "markdown",
   "id": "8a699f4c",
   "metadata": {},
   "source": [
    "# Load the model"
   ]
  },
  {
   "cell_type": "code",
   "execution_count": 59,
   "id": "98e58f50",
   "metadata": {},
   "outputs": [
    {
     "name": "stderr",
     "output_type": "stream",
     "text": [
      "WARNING:absl:Skipping variable loading for optimizer 'Adam', because it has 1 variables whereas the saved optimizer has 17 variables. \n"
     ]
    },
    {
     "name": "stdout",
     "output_type": "stream",
     "text": [
      "Weights loaded ...\n"
     ]
    }
   ],
   "source": [
    "# create the environment for CartPole\n",
    "env = gym.make('CartPole-v1', render_mode=\"rgb_array\")\n",
    "\n",
    "# obtain the number of states available and actions for building the neural network in the CartPole environment\n",
    "state_size = env.observation_space.shape[0]\n",
    "action_size = env.action_space.n\n",
    "\n",
    "# create an agent instance for the CartPole\n",
    "agent = DQReinforcementLearning(state_size, action_size, load_weights=True)"
   ]
  },
  {
   "cell_type": "markdown",
   "id": "6c305759",
   "metadata": {},
   "source": [
    "# Evaluate the trained model"
   ]
  },
  {
   "cell_type": "code",
   "execution_count": 60,
   "id": "b8568528",
   "metadata": {
    "scrolled": true
   },
   "outputs": [],
   "source": [
    "# reset the environment and get the initial state\n",
    "observation, _ = env.reset()\n",
    "terminated = False\n",
    "\n",
    "# store the frames\n",
    "frames = []\n",
    "count = 0\n",
    "\n",
    "# run the environment \n",
    "while not terminated:\n",
    "    \n",
    "    # render the environment and capture the frame\n",
    "    frame = env.render()\n",
    "    \n",
    "    # store the frames\n",
    "    frames.append(frame)\n",
    "    \n",
    "    action = agent.model.predict(tf.expand_dims(observation, axis=0), verbose=0).argmax()\n",
    "     \n",
    "    # get the next state\n",
    "    observation, reward, terminated, truncated, info = env.step(action) \n",
    "    \n",
    "    if count == 200:\n",
    "        terminated = True\n",
    "    \n",
    "    count += 1\n",
    "\n",
    "env.close()\n",
    "\n",
    "# save the frames as a GIF\n",
    "imageio.mimsave(\"Render/eval.gif\", frames, duration=0.1)"
   ]
  },
  {
   "cell_type": "markdown",
   "id": "48a17b0d",
   "metadata": {},
   "source": [
    "# Evaluate with the model that is already trained"
   ]
  },
  {
   "cell_type": "code",
   "execution_count": 62,
   "id": "5c55abc6",
   "metadata": {
    "scrolled": false
   },
   "outputs": [],
   "source": [
    "# Image(filename=\"Render/eval.gif\")"
   ]
  }
 ],
 "metadata": {
  "kernelspec": {
   "display_name": "Python 3 (ipykernel)",
   "language": "python",
   "name": "python3"
  },
  "language_info": {
   "codemirror_mode": {
    "name": "ipython",
    "version": 3
   },
   "file_extension": ".py",
   "mimetype": "text/x-python",
   "name": "python",
   "nbconvert_exporter": "python",
   "pygments_lexer": "ipython3",
   "version": "3.8.10"
  }
 },
 "nbformat": 4,
 "nbformat_minor": 5
}
